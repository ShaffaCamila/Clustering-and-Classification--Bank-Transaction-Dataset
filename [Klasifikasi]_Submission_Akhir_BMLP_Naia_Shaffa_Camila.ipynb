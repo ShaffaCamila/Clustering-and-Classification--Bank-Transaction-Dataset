{
  "cells": [
    {
      "cell_type": "markdown",
      "metadata": {
        "id": "fKADPWcFKlj3"
      },
      "source": [
        "# **1. Import Library**"
      ]
    },
    {
      "cell_type": "markdown",
      "metadata": {
        "id": "LgA3ERnVn84N"
      },
      "source": [
        "Pada tahap ini, Anda perlu mengimpor beberapa pustaka (library) Python yang dibutuhkan untuk analisis data dan pembangunan model machine learning."
      ]
    },
    {
      "cell_type": "code",
      "execution_count": 1,
      "metadata": {
        "id": "BlmvjLY9M4Yj"
      },
      "outputs": [],
      "source": [
        "import pandas as pd\n",
        "import numpy as np\n",
        "import matplotlib.pyplot as plt\n",
        "import seaborn as sns\n",
        "\n",
        "from sklearn.ensemble import RandomForestClassifier\n",
        "from sklearn.neighbors import KNeighborsClassifier\n",
        "\n",
        "from sklearn.metrics import accuracy_score, confusion_matrix, classification_report, f1_score, precision_score, recall_score\n",
        "from sklearn.preprocessing import MinMaxScaler\n",
        "from sklearn.model_selection import train_test_split\n",
        "from sklearn.model_selection import GridSearchCV"
      ]
    },
    {
      "cell_type": "markdown",
      "metadata": {
        "id": "f3YIEnAFKrKL"
      },
      "source": [
        "# **2. Memuat Dataset dari Hasil Clustering**"
      ]
    },
    {
      "cell_type": "markdown",
      "metadata": {
        "id": "Ey3ItwTen_7E"
      },
      "source": [
        "Memuat dataset hasil clustering dari file CSV ke dalam variabel DataFrame."
      ]
    },
    {
      "cell_type": "code",
      "execution_count": 2,
      "metadata": {
        "id": "GHCGNTyrM5fS"
      },
      "outputs": [
        {
          "data": {
            "text/html": [
              "<div>\n",
              "<style scoped>\n",
              "    .dataframe tbody tr th:only-of-type {\n",
              "        vertical-align: middle;\n",
              "    }\n",
              "\n",
              "    .dataframe tbody tr th {\n",
              "        vertical-align: top;\n",
              "    }\n",
              "\n",
              "    .dataframe thead th {\n",
              "        text-align: right;\n",
              "    }\n",
              "</style>\n",
              "<table border=\"1\" class=\"dataframe\">\n",
              "  <thead>\n",
              "    <tr style=\"text-align: right;\">\n",
              "      <th></th>\n",
              "      <th>TransactionAmount</th>\n",
              "      <th>TransactionDate</th>\n",
              "      <th>TransactionType</th>\n",
              "      <th>Location</th>\n",
              "      <th>Channel</th>\n",
              "      <th>CustomerAge</th>\n",
              "      <th>CustomerOccupation</th>\n",
              "      <th>TransactionDuration</th>\n",
              "      <th>LoginAttempts</th>\n",
              "      <th>AccountBalance</th>\n",
              "      <th>...</th>\n",
              "      <th>Channel_Encoded</th>\n",
              "      <th>CustomerOccupation_Encoded</th>\n",
              "      <th>Cluster_KMeans</th>\n",
              "      <th>Cluster_KMeans_PCA</th>\n",
              "      <th>Cluster_KMeans_Optimal</th>\n",
              "      <th>TransactionType_Inverse</th>\n",
              "      <th>Location_Inverse</th>\n",
              "      <th>Channel_Inverse</th>\n",
              "      <th>CustomerOccupation_Inverse</th>\n",
              "      <th>Cluster</th>\n",
              "    </tr>\n",
              "  </thead>\n",
              "  <tbody>\n",
              "    <tr>\n",
              "      <th>0</th>\n",
              "      <td>14.09</td>\n",
              "      <td>2024-11-04 08:08:08</td>\n",
              "      <td>Debit</td>\n",
              "      <td>San Diego</td>\n",
              "      <td>ATM</td>\n",
              "      <td>70</td>\n",
              "      <td>Doctor</td>\n",
              "      <td>81</td>\n",
              "      <td>1</td>\n",
              "      <td>5112.21</td>\n",
              "      <td>...</td>\n",
              "      <td>0</td>\n",
              "      <td>0</td>\n",
              "      <td>0</td>\n",
              "      <td>0</td>\n",
              "      <td>0</td>\n",
              "      <td>Debit</td>\n",
              "      <td>San Diego</td>\n",
              "      <td>ATM</td>\n",
              "      <td>Doctor</td>\n",
              "      <td>0</td>\n",
              "    </tr>\n",
              "    <tr>\n",
              "      <th>1</th>\n",
              "      <td>376.24</td>\n",
              "      <td>2024-11-04 08:09:35</td>\n",
              "      <td>Debit</td>\n",
              "      <td>Houston</td>\n",
              "      <td>ATM</td>\n",
              "      <td>68</td>\n",
              "      <td>Doctor</td>\n",
              "      <td>141</td>\n",
              "      <td>1</td>\n",
              "      <td>13758.91</td>\n",
              "      <td>...</td>\n",
              "      <td>0</td>\n",
              "      <td>0</td>\n",
              "      <td>2</td>\n",
              "      <td>2</td>\n",
              "      <td>2</td>\n",
              "      <td>Debit</td>\n",
              "      <td>Houston</td>\n",
              "      <td>ATM</td>\n",
              "      <td>Doctor</td>\n",
              "      <td>2</td>\n",
              "    </tr>\n",
              "    <tr>\n",
              "      <th>2</th>\n",
              "      <td>126.29</td>\n",
              "      <td>2024-11-04 08:07:04</td>\n",
              "      <td>Debit</td>\n",
              "      <td>Mesa</td>\n",
              "      <td>Online</td>\n",
              "      <td>19</td>\n",
              "      <td>Student</td>\n",
              "      <td>56</td>\n",
              "      <td>1</td>\n",
              "      <td>1122.35</td>\n",
              "      <td>...</td>\n",
              "      <td>2</td>\n",
              "      <td>3</td>\n",
              "      <td>1</td>\n",
              "      <td>1</td>\n",
              "      <td>1</td>\n",
              "      <td>Debit</td>\n",
              "      <td>Mesa</td>\n",
              "      <td>Online</td>\n",
              "      <td>Student</td>\n",
              "      <td>1</td>\n",
              "    </tr>\n",
              "    <tr>\n",
              "      <th>3</th>\n",
              "      <td>184.50</td>\n",
              "      <td>2024-11-04 08:09:06</td>\n",
              "      <td>Debit</td>\n",
              "      <td>Raleigh</td>\n",
              "      <td>Online</td>\n",
              "      <td>26</td>\n",
              "      <td>Student</td>\n",
              "      <td>25</td>\n",
              "      <td>1</td>\n",
              "      <td>8569.06</td>\n",
              "      <td>...</td>\n",
              "      <td>2</td>\n",
              "      <td>3</td>\n",
              "      <td>0</td>\n",
              "      <td>0</td>\n",
              "      <td>0</td>\n",
              "      <td>Debit</td>\n",
              "      <td>Raleigh</td>\n",
              "      <td>Online</td>\n",
              "      <td>Student</td>\n",
              "      <td>0</td>\n",
              "    </tr>\n",
              "    <tr>\n",
              "      <th>4</th>\n",
              "      <td>13.45</td>\n",
              "      <td>2024-11-04 08:06:39</td>\n",
              "      <td>Credit</td>\n",
              "      <td>Atlanta</td>\n",
              "      <td>Online</td>\n",
              "      <td>26</td>\n",
              "      <td>Student</td>\n",
              "      <td>198</td>\n",
              "      <td>1</td>\n",
              "      <td>7429.40</td>\n",
              "      <td>...</td>\n",
              "      <td>2</td>\n",
              "      <td>3</td>\n",
              "      <td>0</td>\n",
              "      <td>0</td>\n",
              "      <td>0</td>\n",
              "      <td>Credit</td>\n",
              "      <td>Atlanta</td>\n",
              "      <td>Online</td>\n",
              "      <td>Student</td>\n",
              "      <td>0</td>\n",
              "    </tr>\n",
              "    <tr>\n",
              "      <th>5</th>\n",
              "      <td>92.15</td>\n",
              "      <td>2024-11-04 08:06:36</td>\n",
              "      <td>Debit</td>\n",
              "      <td>Oklahoma City</td>\n",
              "      <td>ATM</td>\n",
              "      <td>18</td>\n",
              "      <td>Student</td>\n",
              "      <td>172</td>\n",
              "      <td>1</td>\n",
              "      <td>781.68</td>\n",
              "      <td>...</td>\n",
              "      <td>0</td>\n",
              "      <td>3</td>\n",
              "      <td>1</td>\n",
              "      <td>1</td>\n",
              "      <td>1</td>\n",
              "      <td>Debit</td>\n",
              "      <td>Oklahoma City</td>\n",
              "      <td>ATM</td>\n",
              "      <td>Student</td>\n",
              "      <td>1</td>\n",
              "    </tr>\n",
              "    <tr>\n",
              "      <th>6</th>\n",
              "      <td>7.08</td>\n",
              "      <td>2024-11-04 08:10:09</td>\n",
              "      <td>Credit</td>\n",
              "      <td>Seattle</td>\n",
              "      <td>ATM</td>\n",
              "      <td>37</td>\n",
              "      <td>Doctor</td>\n",
              "      <td>139</td>\n",
              "      <td>1</td>\n",
              "      <td>13316.71</td>\n",
              "      <td>...</td>\n",
              "      <td>0</td>\n",
              "      <td>0</td>\n",
              "      <td>2</td>\n",
              "      <td>2</td>\n",
              "      <td>2</td>\n",
              "      <td>Credit</td>\n",
              "      <td>Seattle</td>\n",
              "      <td>ATM</td>\n",
              "      <td>Doctor</td>\n",
              "      <td>2</td>\n",
              "    </tr>\n",
              "    <tr>\n",
              "      <th>7</th>\n",
              "      <td>171.42</td>\n",
              "      <td>2024-11-04 08:10:55</td>\n",
              "      <td>Credit</td>\n",
              "      <td>Indianapolis</td>\n",
              "      <td>Branch</td>\n",
              "      <td>67</td>\n",
              "      <td>Retired</td>\n",
              "      <td>291</td>\n",
              "      <td>1</td>\n",
              "      <td>2796.24</td>\n",
              "      <td>...</td>\n",
              "      <td>1</td>\n",
              "      <td>2</td>\n",
              "      <td>1</td>\n",
              "      <td>1</td>\n",
              "      <td>1</td>\n",
              "      <td>Credit</td>\n",
              "      <td>Indianapolis</td>\n",
              "      <td>Branch</td>\n",
              "      <td>Retired</td>\n",
              "      <td>1</td>\n",
              "    </tr>\n",
              "    <tr>\n",
              "      <th>8</th>\n",
              "      <td>106.23</td>\n",
              "      <td>2024-11-04 08:11:14</td>\n",
              "      <td>Credit</td>\n",
              "      <td>Detroit</td>\n",
              "      <td>Branch</td>\n",
              "      <td>51</td>\n",
              "      <td>Engineer</td>\n",
              "      <td>86</td>\n",
              "      <td>1</td>\n",
              "      <td>9095.14</td>\n",
              "      <td>...</td>\n",
              "      <td>1</td>\n",
              "      <td>1</td>\n",
              "      <td>0</td>\n",
              "      <td>0</td>\n",
              "      <td>0</td>\n",
              "      <td>Credit</td>\n",
              "      <td>Detroit</td>\n",
              "      <td>Branch</td>\n",
              "      <td>Engineer</td>\n",
              "      <td>0</td>\n",
              "    </tr>\n",
              "    <tr>\n",
              "      <th>9</th>\n",
              "      <td>815.96</td>\n",
              "      <td>2024-11-04 08:06:32</td>\n",
              "      <td>Debit</td>\n",
              "      <td>Nashville</td>\n",
              "      <td>ATM</td>\n",
              "      <td>55</td>\n",
              "      <td>Doctor</td>\n",
              "      <td>120</td>\n",
              "      <td>1</td>\n",
              "      <td>1021.88</td>\n",
              "      <td>...</td>\n",
              "      <td>0</td>\n",
              "      <td>0</td>\n",
              "      <td>1</td>\n",
              "      <td>1</td>\n",
              "      <td>1</td>\n",
              "      <td>Debit</td>\n",
              "      <td>Nashville</td>\n",
              "      <td>ATM</td>\n",
              "      <td>Doctor</td>\n",
              "      <td>1</td>\n",
              "    </tr>\n",
              "  </tbody>\n",
              "</table>\n",
              "<p>10 rows × 22 columns</p>\n",
              "</div>"
            ],
            "text/plain": [
              "   TransactionAmount      TransactionDate TransactionType       Location  \\\n",
              "0              14.09  2024-11-04 08:08:08           Debit      San Diego   \n",
              "1             376.24  2024-11-04 08:09:35           Debit        Houston   \n",
              "2             126.29  2024-11-04 08:07:04           Debit           Mesa   \n",
              "3             184.50  2024-11-04 08:09:06           Debit        Raleigh   \n",
              "4              13.45  2024-11-04 08:06:39          Credit        Atlanta   \n",
              "5              92.15  2024-11-04 08:06:36           Debit  Oklahoma City   \n",
              "6               7.08  2024-11-04 08:10:09          Credit        Seattle   \n",
              "7             171.42  2024-11-04 08:10:55          Credit   Indianapolis   \n",
              "8             106.23  2024-11-04 08:11:14          Credit        Detroit   \n",
              "9             815.96  2024-11-04 08:06:32           Debit      Nashville   \n",
              "\n",
              "  Channel  CustomerAge CustomerOccupation  TransactionDuration  LoginAttempts  \\\n",
              "0     ATM           70             Doctor                   81              1   \n",
              "1     ATM           68             Doctor                  141              1   \n",
              "2  Online           19            Student                   56              1   \n",
              "3  Online           26            Student                   25              1   \n",
              "4  Online           26            Student                  198              1   \n",
              "5     ATM           18            Student                  172              1   \n",
              "6     ATM           37             Doctor                  139              1   \n",
              "7  Branch           67            Retired                  291              1   \n",
              "8  Branch           51           Engineer                   86              1   \n",
              "9     ATM           55             Doctor                  120              1   \n",
              "\n",
              "   AccountBalance  ...  Channel_Encoded  CustomerOccupation_Encoded  \\\n",
              "0         5112.21  ...                0                           0   \n",
              "1        13758.91  ...                0                           0   \n",
              "2         1122.35  ...                2                           3   \n",
              "3         8569.06  ...                2                           3   \n",
              "4         7429.40  ...                2                           3   \n",
              "5          781.68  ...                0                           3   \n",
              "6        13316.71  ...                0                           0   \n",
              "7         2796.24  ...                1                           2   \n",
              "8         9095.14  ...                1                           1   \n",
              "9         1021.88  ...                0                           0   \n",
              "\n",
              "   Cluster_KMeans  Cluster_KMeans_PCA  Cluster_KMeans_Optimal  \\\n",
              "0               0                   0                       0   \n",
              "1               2                   2                       2   \n",
              "2               1                   1                       1   \n",
              "3               0                   0                       0   \n",
              "4               0                   0                       0   \n",
              "5               1                   1                       1   \n",
              "6               2                   2                       2   \n",
              "7               1                   1                       1   \n",
              "8               0                   0                       0   \n",
              "9               1                   1                       1   \n",
              "\n",
              "   TransactionType_Inverse  Location_Inverse Channel_Inverse  \\\n",
              "0                    Debit         San Diego             ATM   \n",
              "1                    Debit           Houston             ATM   \n",
              "2                    Debit              Mesa          Online   \n",
              "3                    Debit           Raleigh          Online   \n",
              "4                   Credit           Atlanta          Online   \n",
              "5                    Debit     Oklahoma City             ATM   \n",
              "6                   Credit           Seattle             ATM   \n",
              "7                   Credit      Indianapolis          Branch   \n",
              "8                   Credit           Detroit          Branch   \n",
              "9                    Debit         Nashville             ATM   \n",
              "\n",
              "  CustomerOccupation_Inverse Cluster  \n",
              "0                     Doctor       0  \n",
              "1                     Doctor       2  \n",
              "2                    Student       1  \n",
              "3                    Student       0  \n",
              "4                    Student       0  \n",
              "5                    Student       1  \n",
              "6                     Doctor       2  \n",
              "7                    Retired       1  \n",
              "8                   Engineer       0  \n",
              "9                     Doctor       1  \n",
              "\n",
              "[10 rows x 22 columns]"
            ]
          },
          "execution_count": 2,
          "metadata": {},
          "output_type": "execute_result"
        }
      ],
      "source": [
        "df = pd.read_csv('hasil_clustering.csv')\n",
        "\n",
        "df.head(10)"
      ]
    },
    {
      "cell_type": "code",
      "execution_count": 3,
      "metadata": {},
      "outputs": [
        {
          "name": "stdout",
          "output_type": "stream",
          "text": [
            "Jumlah Baris : 2282\n",
            "Jumlah Kolom : 22\n"
          ]
        }
      ],
      "source": [
        "print(f\"Jumlah Baris : {df.shape[0]}\")\n",
        "print(f\"Jumlah Kolom : {df.shape[1]}\")"
      ]
    },
    {
      "cell_type": "code",
      "execution_count": 4,
      "metadata": {},
      "outputs": [
        {
          "name": "stdout",
          "output_type": "stream",
          "text": [
            "<class 'pandas.core.frame.DataFrame'>\n",
            "RangeIndex: 2282 entries, 0 to 2281\n",
            "Data columns (total 22 columns):\n",
            " #   Column                      Non-Null Count  Dtype  \n",
            "---  ------                      --------------  -----  \n",
            " 0   TransactionAmount           2282 non-null   float64\n",
            " 1   TransactionDate             2282 non-null   object \n",
            " 2   TransactionType             2282 non-null   object \n",
            " 3   Location                    2282 non-null   object \n",
            " 4   Channel                     2282 non-null   object \n",
            " 5   CustomerAge                 2282 non-null   int64  \n",
            " 6   CustomerOccupation          2282 non-null   object \n",
            " 7   TransactionDuration         2282 non-null   int64  \n",
            " 8   LoginAttempts               2282 non-null   int64  \n",
            " 9   AccountBalance              2282 non-null   float64\n",
            " 10  TransactionType_Encoded     2282 non-null   int64  \n",
            " 11  Location_Encoded            2282 non-null   int64  \n",
            " 12  Channel_Encoded             2282 non-null   int64  \n",
            " 13  CustomerOccupation_Encoded  2282 non-null   int64  \n",
            " 14  Cluster_KMeans              2282 non-null   int64  \n",
            " 15  Cluster_KMeans_PCA          2282 non-null   int64  \n",
            " 16  Cluster_KMeans_Optimal      2282 non-null   int64  \n",
            " 17  TransactionType_Inverse     2282 non-null   object \n",
            " 18  Location_Inverse            2282 non-null   object \n",
            " 19  Channel_Inverse             2282 non-null   object \n",
            " 20  CustomerOccupation_Inverse  2282 non-null   object \n",
            " 21  Cluster                     2282 non-null   int64  \n",
            "dtypes: float64(2), int64(11), object(9)\n",
            "memory usage: 392.3+ KB\n"
          ]
        }
      ],
      "source": [
        "df.info()"
      ]
    },
    {
      "cell_type": "code",
      "execution_count": 5,
      "metadata": {},
      "outputs": [],
      "source": [
        "df_processed = df.drop(\n",
        "    ['TransactionDate', 'TransactionType', 'Location', 'Channel', 'CustomerOccupation', \n",
        "     'TransactionType_Inverse', 'Location_Inverse', 'Channel_Inverse', 'CustomerOccupation_Inverse'], \n",
        "    axis=1\n",
        ").copy()"
      ]
    },
    {
      "cell_type": "code",
      "execution_count": 6,
      "metadata": {},
      "outputs": [
        {
          "name": "stdout",
          "output_type": "stream",
          "text": [
            "<class 'pandas.core.frame.DataFrame'>\n",
            "RangeIndex: 2282 entries, 0 to 2281\n",
            "Data columns (total 13 columns):\n",
            " #   Column                      Non-Null Count  Dtype  \n",
            "---  ------                      --------------  -----  \n",
            " 0   TransactionAmount           2282 non-null   float64\n",
            " 1   CustomerAge                 2282 non-null   int64  \n",
            " 2   TransactionDuration         2282 non-null   int64  \n",
            " 3   LoginAttempts               2282 non-null   int64  \n",
            " 4   AccountBalance              2282 non-null   float64\n",
            " 5   TransactionType_Encoded     2282 non-null   int64  \n",
            " 6   Location_Encoded            2282 non-null   int64  \n",
            " 7   Channel_Encoded             2282 non-null   int64  \n",
            " 8   CustomerOccupation_Encoded  2282 non-null   int64  \n",
            " 9   Cluster_KMeans              2282 non-null   int64  \n",
            " 10  Cluster_KMeans_PCA          2282 non-null   int64  \n",
            " 11  Cluster_KMeans_Optimal      2282 non-null   int64  \n",
            " 12  Cluster                     2282 non-null   int64  \n",
            "dtypes: float64(2), int64(11)\n",
            "memory usage: 231.9 KB\n"
          ]
        }
      ],
      "source": [
        "df_processed.info()"
      ]
    },
    {
      "cell_type": "code",
      "execution_count": 7,
      "metadata": {},
      "outputs": [
        {
          "data": {
            "text/html": [
              "<div>\n",
              "<style scoped>\n",
              "    .dataframe tbody tr th:only-of-type {\n",
              "        vertical-align: middle;\n",
              "    }\n",
              "\n",
              "    .dataframe tbody tr th {\n",
              "        vertical-align: top;\n",
              "    }\n",
              "\n",
              "    .dataframe thead th {\n",
              "        text-align: right;\n",
              "    }\n",
              "</style>\n",
              "<table border=\"1\" class=\"dataframe\">\n",
              "  <thead>\n",
              "    <tr style=\"text-align: right;\">\n",
              "      <th></th>\n",
              "      <th>TransactionAmount</th>\n",
              "      <th>CustomerAge</th>\n",
              "      <th>TransactionDuration</th>\n",
              "      <th>LoginAttempts</th>\n",
              "      <th>AccountBalance</th>\n",
              "      <th>TransactionType_Encoded</th>\n",
              "      <th>Location_Encoded</th>\n",
              "      <th>Channel_Encoded</th>\n",
              "      <th>CustomerOccupation_Encoded</th>\n",
              "      <th>Cluster_KMeans</th>\n",
              "      <th>Cluster_KMeans_PCA</th>\n",
              "      <th>Cluster_KMeans_Optimal</th>\n",
              "      <th>Cluster</th>\n",
              "    </tr>\n",
              "  </thead>\n",
              "  <tbody>\n",
              "    <tr>\n",
              "      <th>count</th>\n",
              "      <td>2282.000000</td>\n",
              "      <td>2282.000000</td>\n",
              "      <td>2282.000000</td>\n",
              "      <td>2282.0</td>\n",
              "      <td>2282.000000</td>\n",
              "      <td>2282.000000</td>\n",
              "      <td>2282.000000</td>\n",
              "      <td>2282.000000</td>\n",
              "      <td>2282.000000</td>\n",
              "      <td>2282.000000</td>\n",
              "      <td>2282.000000</td>\n",
              "      <td>2282.000000</td>\n",
              "      <td>2282.000000</td>\n",
              "    </tr>\n",
              "    <tr>\n",
              "      <th>mean</th>\n",
              "      <td>255.525596</td>\n",
              "      <td>44.682734</td>\n",
              "      <td>118.972831</td>\n",
              "      <td>1.0</td>\n",
              "      <td>5119.550140</td>\n",
              "      <td>0.773006</td>\n",
              "      <td>21.076687</td>\n",
              "      <td>0.992989</td>\n",
              "      <td>1.513585</td>\n",
              "      <td>0.778703</td>\n",
              "      <td>0.776950</td>\n",
              "      <td>0.776950</td>\n",
              "      <td>0.776950</td>\n",
              "    </tr>\n",
              "    <tr>\n",
              "      <th>std</th>\n",
              "      <td>217.793773</td>\n",
              "      <td>17.711957</td>\n",
              "      <td>69.853628</td>\n",
              "      <td>0.0</td>\n",
              "      <td>3881.419806</td>\n",
              "      <td>0.418980</td>\n",
              "      <td>12.284826</td>\n",
              "      <td>0.806562</td>\n",
              "      <td>1.127955</td>\n",
              "      <td>0.703609</td>\n",
              "      <td>0.703055</td>\n",
              "      <td>0.703055</td>\n",
              "      <td>0.703055</td>\n",
              "    </tr>\n",
              "    <tr>\n",
              "      <th>min</th>\n",
              "      <td>0.260000</td>\n",
              "      <td>18.000000</td>\n",
              "      <td>10.000000</td>\n",
              "      <td>1.0</td>\n",
              "      <td>101.250000</td>\n",
              "      <td>0.000000</td>\n",
              "      <td>0.000000</td>\n",
              "      <td>0.000000</td>\n",
              "      <td>0.000000</td>\n",
              "      <td>0.000000</td>\n",
              "      <td>0.000000</td>\n",
              "      <td>0.000000</td>\n",
              "      <td>0.000000</td>\n",
              "    </tr>\n",
              "    <tr>\n",
              "      <th>25%</th>\n",
              "      <td>77.847500</td>\n",
              "      <td>27.000000</td>\n",
              "      <td>63.000000</td>\n",
              "      <td>1.0</td>\n",
              "      <td>1515.460000</td>\n",
              "      <td>1.000000</td>\n",
              "      <td>10.250000</td>\n",
              "      <td>0.000000</td>\n",
              "      <td>1.000000</td>\n",
              "      <td>0.000000</td>\n",
              "      <td>0.000000</td>\n",
              "      <td>0.000000</td>\n",
              "      <td>0.000000</td>\n",
              "    </tr>\n",
              "    <tr>\n",
              "      <th>50%</th>\n",
              "      <td>198.315000</td>\n",
              "      <td>45.000000</td>\n",
              "      <td>111.000000</td>\n",
              "      <td>1.0</td>\n",
              "      <td>4762.410000</td>\n",
              "      <td>1.000000</td>\n",
              "      <td>21.000000</td>\n",
              "      <td>1.000000</td>\n",
              "      <td>2.000000</td>\n",
              "      <td>1.000000</td>\n",
              "      <td>1.000000</td>\n",
              "      <td>1.000000</td>\n",
              "      <td>1.000000</td>\n",
              "    </tr>\n",
              "    <tr>\n",
              "      <th>75%</th>\n",
              "      <td>376.255000</td>\n",
              "      <td>59.000000</td>\n",
              "      <td>161.000000</td>\n",
              "      <td>1.0</td>\n",
              "      <td>7641.830000</td>\n",
              "      <td>1.000000</td>\n",
              "      <td>31.000000</td>\n",
              "      <td>2.000000</td>\n",
              "      <td>3.000000</td>\n",
              "      <td>1.000000</td>\n",
              "      <td>1.000000</td>\n",
              "      <td>1.000000</td>\n",
              "      <td>1.000000</td>\n",
              "    </tr>\n",
              "    <tr>\n",
              "      <th>max</th>\n",
              "      <td>903.190000</td>\n",
              "      <td>80.000000</td>\n",
              "      <td>300.000000</td>\n",
              "      <td>1.0</td>\n",
              "      <td>14977.990000</td>\n",
              "      <td>1.000000</td>\n",
              "      <td>42.000000</td>\n",
              "      <td>2.000000</td>\n",
              "      <td>3.000000</td>\n",
              "      <td>2.000000</td>\n",
              "      <td>2.000000</td>\n",
              "      <td>2.000000</td>\n",
              "      <td>2.000000</td>\n",
              "    </tr>\n",
              "  </tbody>\n",
              "</table>\n",
              "</div>"
            ],
            "text/plain": [
              "       TransactionAmount  CustomerAge  TransactionDuration  LoginAttempts  \\\n",
              "count        2282.000000  2282.000000          2282.000000         2282.0   \n",
              "mean          255.525596    44.682734           118.972831            1.0   \n",
              "std           217.793773    17.711957            69.853628            0.0   \n",
              "min             0.260000    18.000000            10.000000            1.0   \n",
              "25%            77.847500    27.000000            63.000000            1.0   \n",
              "50%           198.315000    45.000000           111.000000            1.0   \n",
              "75%           376.255000    59.000000           161.000000            1.0   \n",
              "max           903.190000    80.000000           300.000000            1.0   \n",
              "\n",
              "       AccountBalance  TransactionType_Encoded  Location_Encoded  \\\n",
              "count     2282.000000              2282.000000       2282.000000   \n",
              "mean      5119.550140                 0.773006         21.076687   \n",
              "std       3881.419806                 0.418980         12.284826   \n",
              "min        101.250000                 0.000000          0.000000   \n",
              "25%       1515.460000                 1.000000         10.250000   \n",
              "50%       4762.410000                 1.000000         21.000000   \n",
              "75%       7641.830000                 1.000000         31.000000   \n",
              "max      14977.990000                 1.000000         42.000000   \n",
              "\n",
              "       Channel_Encoded  CustomerOccupation_Encoded  Cluster_KMeans  \\\n",
              "count      2282.000000                 2282.000000     2282.000000   \n",
              "mean          0.992989                    1.513585        0.778703   \n",
              "std           0.806562                    1.127955        0.703609   \n",
              "min           0.000000                    0.000000        0.000000   \n",
              "25%           0.000000                    1.000000        0.000000   \n",
              "50%           1.000000                    2.000000        1.000000   \n",
              "75%           2.000000                    3.000000        1.000000   \n",
              "max           2.000000                    3.000000        2.000000   \n",
              "\n",
              "       Cluster_KMeans_PCA  Cluster_KMeans_Optimal      Cluster  \n",
              "count         2282.000000             2282.000000  2282.000000  \n",
              "mean             0.776950                0.776950     0.776950  \n",
              "std              0.703055                0.703055     0.703055  \n",
              "min              0.000000                0.000000     0.000000  \n",
              "25%              0.000000                0.000000     0.000000  \n",
              "50%              1.000000                1.000000     1.000000  \n",
              "75%              1.000000                1.000000     1.000000  \n",
              "max              2.000000                2.000000     2.000000  "
            ]
          },
          "execution_count": 7,
          "metadata": {},
          "output_type": "execute_result"
        }
      ],
      "source": [
        "df_processed.describe()"
      ]
    },
    {
      "cell_type": "markdown",
      "metadata": {
        "id": "KkPem5eWL2UP"
      },
      "source": [
        "# **3. Data Splitting**"
      ]
    },
    {
      "cell_type": "markdown",
      "metadata": {
        "id": "YYj1rl_JNI9Y"
      },
      "source": [
        "Tahap Data Splitting bertujuan untuk memisahkan dataset menjadi dua bagian: data latih (training set) dan data uji (test set)."
      ]
    },
    {
      "cell_type": "code",
      "execution_count": 8,
      "metadata": {
        "id": "OubAW-7ONKVj"
      },
      "outputs": [
        {
          "name": "stdout",
          "output_type": "stream",
          "text": [
            "Jumlah baris data training: 1825\n",
            "Jumlah baris data testing: 457\n"
          ]
        }
      ],
      "source": [
        "# Memisahkan fitur (X) dan target (y)\n",
        "X = df_processed.drop('Cluster', axis=1)\n",
        "y = df_processed['Cluster']\n",
        "\n",
        "# Membagi data training dan testing dengan hold-out Validation\n",
        "X_train, X_test, y_train, y_test = train_test_split(X, y, test_size=0.2, random_state=42)\n",
        "\n",
        "print(f\"Jumlah baris data training: {X_train.shape[0]}\")\n",
        "print(f\"Jumlah baris data testing: {X_test.shape[0]}\")"
      ]
    },
    {
      "cell_type": "markdown",
      "metadata": {
        "id": "IVPbB03CMhTT"
      },
      "source": [
        "# **4. Membangun Model Klasifikasi**\n"
      ]
    },
    {
      "cell_type": "markdown",
      "metadata": {
        "id": "Ned1pL9zMmBK"
      },
      "source": [
        "## **a. Membangun Model Klasifikasi**"
      ]
    },
    {
      "cell_type": "markdown",
      "metadata": {
        "id": "WAWzPOE4Nkti"
      },
      "source": [
        "Setelah memilih algoritma klasifikasi yang sesuai, langkah selanjutnya adalah melatih model menggunakan data latih.\n",
        "\n",
        "Berikut adalah rekomendasi tahapannya.\n",
        "1. Pilih algoritma klasifikasi yang sesuai, seperti Logistic Regression, Decision Tree, Random Forest, atau K-Nearest Neighbors (KNN).\n",
        "2. Latih model menggunakan data latih."
      ]
    },
    {
      "cell_type": "code",
      "execution_count": 9,
      "metadata": {
        "id": "4JYxBe87NLDk"
      },
      "outputs": [
        {
          "name": "stdout",
          "output_type": "stream",
          "text": [
            "✅ Model training selesai untuk Random Forest, Decision Tree, dan Logistic Regression\n"
          ]
        }
      ],
      "source": [
        "rf_model = RandomForestClassifier(\n",
        "    n_estimators=100, \n",
        "    max_depth=10, \n",
        "    min_samples_split=5,  \n",
        "    random_state=42\n",
        ")\n",
        "\n",
        "knn_model = KNeighborsClassifier(\n",
        "    n_neighbors=10,\n",
        "    metric='euclidean'\n",
        ")\n",
        "\n",
        "rf_model.fit(X_train, y_train)\n",
        "knn_model.fit(X_train, y_train)\n",
        "\n",
        "print('✅ Model training selesai untuk Random Forest, Decision Tree, dan Logistic Regression')\n"
      ]
    },
    {
      "cell_type": "markdown",
      "metadata": {
        "id": "seYoHNY3XU1y"
      },
      "source": [
        "Tulis narasi atau penjelasan algoritma yang Anda gunakan.\n",
        "\n",
        "1. Random Forest\n",
        "    Algoritma **Random Forest** adalah metode **ensemble learning** yang terdiri dari **pohon-pohon keputusan (Decision Trees)** untuk meningkatkan akurasi prediksi dan mengurangi overfitting. Dalam kode yang digunakan, **100 pohon keputusan** (`n_estimators=100`) dibuat secara acak, masing-masing dengan `max_depth` maksimum **10 level**. Setiap pohon dilatih menggunakan subset acak dari data, dan hasil akhirnya diperoleh dengan metode **voting mayoritas** untuk klasifikasi atau rata-rata untuk regresi. Parameter **`min_samples_split=5`** menentukan bahwa setiap node dalam pohon hanya akan bercabang jika memiliki minimal 5 sampel, sehingga mencegah pohon menjadi terlalu kompleks. Dengan adanya **random_state=42**, hasil yang diperoleh akan konsisten setiap kali model dijalankan.\n",
        "2. K-Nearest Neighbors\n",
        "    Algoritma **K-Nearest Neighbors (KNN)** adalah salah satu metode **machine learning berbasis instance-based learning** yang digunakan untuk **klasifikasi dan regresi**. KNN bekerja dengan **mencari sejumlah tetangga terdekat** dari suatu titik data berdasarkan metrik jarak tertentu, dalam hal ini **jarak Euclidean** (`metric='euclidean'`). Dalam kode yang digunakan, parameter **`n_neighbors=8`** berarti bahwa setiap prediksi akan ditentukan berdasarkan **8 titik data terdekat** dalam ruang fitur. Cara kerja KNN sangat intuitif: ketika model menerima input baru, ia menghitung jarak antara titik tersebut dengan seluruh data yang ada, lalu menentukan kelasnya berdasarkan mayoritas kelas dari 8 tetangga terdekat."
      ]
    },
    {
      "cell_type": "markdown",
      "metadata": {
        "id": "ergzChZFEL-O"
      },
      "source": [
        "## **b. Evaluasi Model Klasifikasi**"
      ]
    },
    {
      "cell_type": "markdown",
      "metadata": {
        "id": "zOm68u-7NpLT"
      },
      "source": [
        "Berikut adalah **rekomendasi** tahapannya.\n",
        "1. Lakukan prediksi menggunakan data uji.\n",
        "2. Hitung metrik evaluasi seperti Accuracy dan F1-Score (Opsional: Precision dan Recall).\n",
        "3. Buat confusion matrix untuk melihat detail prediksi benar dan salah."
      ]
    },
    {
      "cell_type": "code",
      "execution_count": 10,
      "metadata": {},
      "outputs": [
        {
          "name": "stdout",
          "output_type": "stream",
          "text": [
            "\n",
            "✅ Hasil Evaluasi Model (Data Testing):\n",
            "                 Model  Accuracy  Precision  Recall  F1-Score\n",
            "0        Random Forest    100.00     100.00  100.00    100.00\n",
            "1  K-Nearest Neighbors     99.78      99.78   99.78     99.78\n"
          ]
        },
        {
          "data": {
            "image/png": "[encoded data removed]",
            "text/plain": [
              "<Figure size 600x400 with 2 Axes>"
            ]
          },
          "metadata": {},
          "output_type": "display_data"
        },
        {
          "data": {
            "image/png": "[encoded data removed]",
            "text/plain": [
              "<Figure size 600x400 with 2 Axes>"
            ]
          },
          "metadata": {},
          "output_type": "display_data"
        }
      ],
      "source": [
        "models = [rf_model, knn_model]\n",
        "models_name = ['Random Forest', 'K-Nearest Neighbors']\n",
        "\n",
        "model_results = {\n",
        "    'Model': [],\n",
        "    'Accuracy': [],\n",
        "    'Precision': [],\n",
        "    'Recall': [],\n",
        "    'F1-Score': [],\n",
        "}\n",
        "\n",
        "for model, name in zip(models, models_name):\n",
        "    y_pred = model.predict(X_test)\n",
        "\n",
        "    model_results['Model'].append(name)\n",
        "    model_results['Accuracy'].append(round(accuracy_score(y_test, y_pred) * 100, 2))\n",
        "    model_results['Precision'].append(round(precision_score(y_test, y_pred, average='weighted') * 100, 2))\n",
        "    model_results['Recall'].append(round(recall_score(y_test, y_pred, average='weighted') * 100, 2))\n",
        "    model_results['F1-Score'].append(round(f1_score(y_test, y_pred, average='weighted') * 100, 2))\n",
        "\n",
        "df_metrics = pd.DataFrame(model_results)\n",
        "print(\"\\n✅ Hasil Evaluasi Model (Data Testing):\")\n",
        "print(df_metrics)\n",
        "\n",
        "for model, name in zip(models, models_name):\n",
        "    y_pred = model.predict(X_test)\n",
        "    cm = confusion_matrix(y_test, y_pred)\n",
        "\n",
        "    plt.figure(figsize=(6, 4))\n",
        "    sns.heatmap(cm, annot=True, fmt=\"d\", cmap=\"Blues\", xticklabels=np.unique(y_test), yticklabels=np.unique(y_test))\n",
        "    plt.title(f\"Confusion Matrix - {name}\")\n",
        "    plt.xlabel(\"Predicted\")\n",
        "    plt.ylabel(\"True\")\n",
        "    plt.tight_layout()\n",
        "    plt.show()\n"
      ]
    },
    {
      "cell_type": "markdown",
      "metadata": {
        "id": "H4_9OwrsXZlz"
      },
      "source": [
        "Tulis hasil evaluasi algoritma yang digunakan, jika Anda menggunakan 2 algoritma, maka bandingkan hasilnya."
      ]
    },
    {
      "cell_type": "markdown",
      "metadata": {
        "id": "ph9yIYDXEPuB"
      },
      "source": [
        "## **c. Tuning Model Klasifikasi (Optional)**"
      ]
    },
    {
      "cell_type": "markdown",
      "metadata": {
        "id": "-Bikx3LINv5e"
      },
      "source": [
        "Gunakan GridSearchCV, RandomizedSearchCV, atau metode lainnya untuk mencari kombinasi hyperparameter terbaik"
      ]
    },
    {
      "cell_type": "code",
      "execution_count": 11,
      "metadata": {
        "id": "winbFzb8NL95"
      },
      "outputs": [
        {
          "name": "stdout",
          "output_type": "stream",
          "text": [
            "Fitting 5 folds for each of 42 candidates, totalling 210 fits\n",
            "Parameter terbaik untuk KNN: {'metric': 'manhattan', 'n_neighbors': 11, 'weights': 'distance'}\n",
            "Akurasi terbaik pada cross-validation: 99.67 %\n",
            "\n",
            "Evaluasi Model Terbaik pada Data Testing:\n",
            "Akurasi: 100.0%\n",
            "\n",
            "Classification Report:\n",
            "               precision    recall  f1-score   support\n",
            "\n",
            "           0       1.00      1.00      1.00       170\n",
            "           1       1.00      1.00      1.00       222\n",
            "           2       1.00      1.00      1.00        65\n",
            "\n",
            "    accuracy                           1.00       457\n",
            "   macro avg       1.00      1.00      1.00       457\n",
            "weighted avg       1.00      1.00      1.00       457\n",
            "\n"
          ]
        }
      ],
      "source": [
        "knn = KNeighborsClassifier()\n",
        "\n",
        "# Hyperparameter yang akan dituning\n",
        "param_grid = {\n",
        "    'n_neighbors': range(3, 16, 2),  # Mencoba nilai k dari 3 hingga 15 (ganjil untuk menghindari tie)\n",
        "    'metric': ['euclidean', 'manhattan', 'minkowski'],  \n",
        "    'weights': ['uniform', 'distance']\n",
        "}\n",
        "\n",
        "# GridSearchCV untuk mencari kombinasi parameter terbaik\n",
        "grid_search = GridSearchCV(knn, param_grid, cv=5, scoring='accuracy', n_jobs=-1, verbose=1)\n",
        "grid_search.fit(X_train, y_train)\n",
        "\n",
        "# Menampilkan hasil terbaik\n",
        "print(\"Parameter terbaik untuk KNN:\", grid_search.best_params_)\n",
        "print(\"Akurasi terbaik pada cross-validation:\", round(grid_search.best_score_ * 100, 2), \"%\")\n",
        "\n",
        "# Menggunakan model terbaik\n",
        "best_knn_model = grid_search.best_estimator_\n",
        "\n",
        "# Evaluasi model terbaik pada data testing\n",
        "y_pred = best_knn_model.predict(X_test)\n",
        "accuracy = accuracy_score(y_test, y_pred)\n",
        "\n",
        "# Menampilkan metrik evaluasi tambahan\n",
        "print(\"\\nEvaluasi Model Terbaik pada Data Testing:\")\n",
        "print(f\"Akurasi: {round(accuracy * 100, 2)}%\")\n",
        "print(\"\\nClassification Report:\\n\", classification_report(y_test, y_pred))"
      ]
    },
    {
      "cell_type": "markdown",
      "metadata": {
        "id": "hE7pqlEPEYzI"
      },
      "source": [
        "## **d. Evaluasi Model Klasifikasi setelah Tuning (Optional)**"
      ]
    },
    {
      "cell_type": "markdown",
      "metadata": {
        "id": "feaPESoeN0zz"
      },
      "source": [
        "Berikut adalah rekomendasi tahapannya.\n",
        "1. Gunakan model dengan hyperparameter terbaik.\n",
        "2. Hitung ulang metrik evaluasi untuk melihat apakah ada peningkatan performa."
      ]
    },
    {
      "cell_type": "code",
      "execution_count": 12,
      "metadata": {
        "id": "HTXZRvEeNMb1"
      },
      "outputs": [
        {
          "name": "stdout",
          "output_type": "stream",
          "text": [
            "\n",
            "✅ Hasil Evaluasi Model (Data Testing):\n",
            "                 Model  Accuracy  Precision  Recall  F1-Score\n",
            "0        Random Forest     100.0      100.0   100.0     100.0\n",
            "1  K-Nearest Neighbors     100.0      100.0   100.0     100.0\n"
          ]
        },
        {
          "data": {
            "image/png": "[encoded data removed]",
            "text/plain": [
              "<Figure size 600x400 with 2 Axes>"
            ]
          },
          "metadata": {},
          "output_type": "display_data"
        },
        {
          "data": {
            "image/png": "[encoded data removed]",
            "text/plain": [
              "<Figure size 600x400 with 2 Axes>"
            ]
          },
          "metadata": {},
          "output_type": "display_data"
        }
      ],
      "source": [
        "models = [rf_model, best_knn_model]\n",
        "models_name = ['Random Forest', 'K-Nearest Neighbors']\n",
        "\n",
        "model_results = {\n",
        "    'Model': [],\n",
        "    'Accuracy': [],\n",
        "    'Precision': [],\n",
        "    'Recall': [],\n",
        "    'F1-Score': [],\n",
        "}\n",
        "\n",
        "for model, name in zip(models, models_name):\n",
        "    y_pred = model.predict(X_test)\n",
        "\n",
        "    model_results['Model'].append(name)\n",
        "    model_results['Accuracy'].append(round(accuracy_score(y_test, y_pred) * 100, 2))\n",
        "    model_results['Precision'].append(round(precision_score(y_test, y_pred, average='weighted') * 100, 2))\n",
        "    model_results['Recall'].append(round(recall_score(y_test, y_pred, average='weighted') * 100, 2))\n",
        "    model_results['F1-Score'].append(round(f1_score(y_test, y_pred, average='weighted') * 100, 2))\n",
        "\n",
        "df_metrics = pd.DataFrame(model_results)\n",
        "print(\"\\n✅ Hasil Evaluasi Model (Data Testing):\")\n",
        "print(df_metrics)\n",
        "\n",
        "for model, name in zip(models, models_name):\n",
        "    y_pred = model.predict(X_test)\n",
        "    cm = confusion_matrix(y_test, y_pred)\n",
        "\n",
        "    plt.figure(figsize=(6, 4))\n",
        "    sns.heatmap(cm, annot=True, fmt=\"d\", cmap=\"Blues\", xticklabels=np.unique(y_test), yticklabels=np.unique(y_test))\n",
        "    plt.title(f\"Confusion Matrix - {name}\")\n",
        "    plt.xlabel(\"Predicted\")\n",
        "    plt.ylabel(\"True\")\n",
        "    plt.tight_layout()\n",
        "    plt.show()\n"
      ]
    },
    {
      "cell_type": "markdown",
      "metadata": {
        "id": "ZRsOdm4uEgAW"
      },
      "source": [
        "## **e. Analisis Hasil Evaluasi Model Klasifikasi**"
      ]
    },
    {
      "cell_type": "markdown",
      "metadata": {
        "id": "Hm3BhSi6N4_l"
      },
      "source": [
        "Berikut adalah **rekomendasi** tahapannya.\n",
        "#### 📌 **Evaluasi Model Machine Learning: Random Forest & KNN**\n",
        "\n",
        "#### **1️⃣ Bandingkan Hasil Evaluasi Sebelum dan Sesudah Tuning**\n",
        "| Model                | Akurasi Sebelum Tuning | Akurasi Sesudah Tuning |\n",
        "|----------------------|----------------------|----------------------|\n",
        "| **Random Forest**    | 100%                 | 100%                 |\n",
        "| **K-Nearest Neighbors (KNN)** | 99.78%               | 100%                 |\n",
        "\n",
        "---\n",
        "\n",
        "#### **2️⃣ Identifikasi Kelemahan Model**\n",
        "##### **🔹 Random Forest**\n",
        "- **Overfitting**: Akurasi **100%** bisa menjadi tanda bahwa model **terlalu menghafal data latih**, bukan benar-benar **mempelajari pola**.\n",
        "- **Kurang Interpretatif**: Dibandingkan **Decision Tree**, **Random Forest** lebih sulit dijelaskan karena menggunakan banyak pohon keputusan.\n",
        "\n",
        "##### **🔹 K-Nearest Neighbors (KNN)**\n",
        "- **Sensitif terhadap fitur yang tidak relevan**: Walaupun sudah menggunakan **StandardScaler**, KNN masih bisa mengalami **kesalahan jika ada fitur yang tidak relevan**.\n",
        "- **Kompleksitas tinggi pada dataset besar**: Karena KNN mencari tetangga terdekat dari seluruh dataset, prediksi bisa **lambat** jika jumlah data besar.\n",
        "\n",
        "---\n",
        "\n",
        "#### **3️⃣ Rekomendasi Tindakan Lanjutan**\n",
        "##### **✅ Random Forest**\n",
        "- Mengurangi **max_depth** atau **n_estimators** agar model lebih sederhana.\n",
        "- Menambahkan **regularization** dengan meningkatkan **min_samples_split**.\n",
        "- Menggunakan **dataset yang lebih luas dan beragam** agar model lebih **general** dan tidak overfitting.\n",
        "\n",
        "##### **✅ K-Nearest Neighbors**\n",
        "- **Menyesuaikan jumlah k (n_neighbors)** → Meningkatkan nilai **n_neighbors > 11** untuk mengurangi sensitivitas terhadap **outlier**.\n",
        "- **Menggunakan metric jarak yang berbeda**, seperti **minkowski** atau **cosine**, jika pola data lebih kompleks.\n",
        "- **Memeriksa distribusi data asli** untuk memastikan tidak ada **data leakage** yang membuat model terlalu sempurna.\n",
        "\n",
        "---\n",
        "\n",
        "#### **📌 Kesimpulan**\n",
        "🔹 **Hasil evaluasi model menunjukkan akurasi 100% setelah tuning, yang bisa menjadi tanda overfitting.**  \n",
        "🔹 **Perlu dilakukan pengujian dengan dataset berbeda atau teknik regularisasi untuk memastikan model tidak hanya \"menghafal\" data latih.**  \n",
        "🔹 **Dapat mencoba algoritma lain atau mengoptimalkan parameter lebih lanjut agar hasil lebih realistis.**  \n"
      ]
    }
  ],
  "metadata": {
    "colab": {
      "provenance": []
    },
    "kernelspec": {
      "display_name": "Python 3",
      "name": "python3"
    },
    "language_info": {
      "codemirror_mode": {
        "name": "ipython",
        "version": 3
      },
      "file_extension": ".py",
      "mimetype": "text/x-python",
      "name": "python",
      "nbconvert_exporter": "python",
      "pygments_lexer": "ipython3",
      "version": "3.12.5"
    }
  },
  "nbformat": 4,
  "nbformat_minor": 0
}
